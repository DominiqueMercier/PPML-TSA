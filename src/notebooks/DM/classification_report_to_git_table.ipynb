{
 "metadata": {
  "language_info": {
   "codemirror_mode": {
    "name": "ipython",
    "version": 3
   },
   "file_extension": ".py",
   "mimetype": "text/x-python",
   "name": "python",
   "nbconvert_exporter": "python",
   "pygments_lexer": "ipython3",
   "version": "3.6.12-final"
  },
  "orig_nbformat": 2,
  "kernelspec": {
   "name": "python3612jvsc74a57bd0788660a0612e77e24ebe3e72288f65d4e4e7242c0073a8e4dad0a15c2c8da2dc",
   "display_name": "Python 3.6.12 64-bit ('tf2_4')"
  }
 },
 "nbformat": 4,
 "nbformat_minor": 2,
 "cells": [
  {
   "cell_type": "code",
   "execution_count": 1,
   "metadata": {
    "tags": []
   },
   "outputs": [],
   "source": [
    "import numpy as np\n",
    "import os\n",
    "import sys\n",
    "from glob import glob\n",
    "\n",
    "############## Import modules ##############\n",
    "sys.path.append(\"../../\")\n",
    "\n",
    "%load_ext autoreload\n",
    "%autoreload 2"
   ]
  },
  {
   "cell_type": "code",
   "execution_count": 8,
   "metadata": {},
   "outputs": [],
   "source": [
    "# get all results\n",
    "root = '../../../results_detailed/'"
   ]
  },
  {
   "cell_type": "code",
   "execution_count": 9,
   "metadata": {
    "tags": []
   },
   "outputs": [],
   "source": [
    "def get_results(root_path, metric=['accuracy'], prefix='**/**'):\n",
    "    files = glob(root_path + prefix)\n",
    "    acc_dict = {}\n",
    "    for fpath in files:\n",
    "        dataset = fpath.split('/')[-2]\n",
    "        if not dataset in acc_dict:\n",
    "            acc_dict[dataset] = {}\n",
    "        setup = fpath.split('/')[-1].replace('.txt', '')\n",
    "        acc_dict[dataset][setup] = [0 for _ in range(len(metric))]\n",
    "        with open(fpath, \"r\") as f:\n",
    "            lines = f.readlines()\n",
    "        for l in lines:\n",
    "            for i, m in enumerate(metric):\n",
    "                if not m in l:\n",
    "                    continue\n",
    "                count = 0 if m == 'accuracy' else 2\n",
    "                for s in l.split(' '):\n",
    "                    if is_number_tryexcept(s):\n",
    "                        if count == 0:\n",
    "                            acc_dict[dataset][setup][i] = s\n",
    "                            break\n",
    "                        else:\n",
    "                            count -= 1                \n",
    "    return acc_dict\n",
    "\n",
    "def is_number_tryexcept(s):\n",
    "    try:\n",
    "        float(s)\n",
    "        return True\n",
    "    except ValueError:\n",
    "        return False\n",
    "\n",
    "acc_dict = get_results(root, metric=['accuracy', 'weighted avg'], prefix='**/**differ**')"
   ]
  },
  {
   "cell_type": "code",
   "execution_count": 10,
   "metadata": {},
   "outputs": [
    {
     "output_type": "stream",
     "name": "stdout",
     "text": [
      "# ECG5000\n| batch | l2 | noise | Accuracy | Weighted Acc. | \n| ----- | ----- | ----- | ----- | ----- |\n|32 | 1.0 | 0.125 | 92.42 | 89.48 | \n|32 | 1.0 | 0.15 | 92.49 | 89.51 | \n|32 | 1.0 | 0.175 | 91.42 | 88.56 | \n|32 | 1.0 | 0.1 | 93.22 | 90.96 | \n|32 | 1.0 | 0.225 | 89.84 | 86.88 | \n|32 | 1.0 | 0.25 | 89.47 | 86.53 | \n|32 | 1.0 | 0.2 | 92.6 | 89.7 | \n\n# ElectricDevices\n| batch | l2 | noise | Accuracy | Weighted Acc. | \n| ----- | ----- | ----- | ----- | ----- |\n|32 | 1.0 | 0.125 | 56.45 | 51.06 | \n|32 | 1.0 | 0.15 | 56.96 | 52.38 | \n|32 | 1.0 | 0.175 | 55.06 | 49.42 | \n|32 | 1.0 | 0.1 | 58.7 | 53.61 | \n|32 | 1.0 | 0.225 | 37.71 | 24.74 | \n|32 | 1.0 | 0.25 | 40.68 | 27.64 | \n|32 | 1.0 | 0.2 | 46.66 | 39.78 | \n\n# FordA\n| batch | l2 | noise | Accuracy | Weighted Acc. | \n| ----- | ----- | ----- | ----- | ----- |\n|32 | 1.0 | 0.125 | 78.41 | 78.03 | \n|32 | 1.0 | 0.15 | 89.7 | 89.66 | \n|32 | 1.0 | 0.175 | 84.17 | 84.15 | \n|32 | 1.0 | 0.1 | 90.45 | 90.45 | \n|32 | 1.0 | 0.225 | 50.91 | 40.09 | \n|32 | 1.0 | 0.25 | 60.22 | 60.11 | \n|32 | 1.0 | 0.2 | 72.8 | 72.8 | \n"
     ]
    }
   ],
   "source": [
    "def create_git_tables(acc_dict, include_str, not_inc_str=False, metric='Accuracy', perc=True):\n",
    "    git_str = ''\n",
    "    first = True\n",
    "    for k_data, _ in sorted(acc_dict.items()):\n",
    "        for k, v_arr in sorted(acc_dict[k_data].items()):\n",
    "            included = include_str in k\n",
    "            if not_inc_str:\n",
    "                included = !included\n",
    "            if included:\n",
    "                if perc:\n",
    "                    v_arr = [int(float(v) * 10000) / 100 for v in v_arr]\n",
    "                setup = k.split('batch')[-1].replace('_report', '').split('_')\n",
    "                sep = '|' + ' ----- |' * (len(setup) + len(metric)) + '\\n'\n",
    "                git_str = git_str\n",
    "                if first:\n",
    "                    header = ''.join([s.split('-')[0] + ' | ' for s in setup])    \n",
    "                    git_str = git_str + '# ' + k_data + '\\n| batch' + header\n",
    "                    git_str = git_str + ''.join([m + ' | ' for m in metric]) + '\\n' + sep\n",
    "                    first = False\n",
    "                setup = ''.join([s.split('-')[1] + ' | ' for s in setup])    \n",
    "                git_str = git_str + '|' + setup + ''.join([str(v) + ' | ' for v in v_arr]) + '\\n'\n",
    "        git_str += '\\n'\n",
    "        first = True\n",
    "    print(git_str[:-2])\n",
    "\n",
    "create_git_tables(acc_dict, '', metric=['Accuracy', 'Weighted Acc.'])"
   ]
  },
  {
   "cell_type": "code",
   "execution_count": null,
   "metadata": {},
   "outputs": [],
   "source": []
  }
 ]
}