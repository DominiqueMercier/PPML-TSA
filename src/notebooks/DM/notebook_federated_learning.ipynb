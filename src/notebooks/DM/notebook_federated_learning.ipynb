{
 "cells": [
  {
   "cell_type": "code",
   "execution_count": 1,
   "metadata": {
    "tags": []
   },
   "outputs": [],
   "source": [
    "import numpy as np\n",
    "import os\n",
    "import tensorflow as tf\n",
    "import sys\n",
    "import nest_asyncio\n",
    "\n",
    "nest_asyncio.apply()\n",
    "\n",
    "############ Tensforflow config ############\n",
    "os.environ['CUDA_VISIBLE_DEVICES'] = '-1'\n",
    "\n",
    "############## Import modules ##############\n",
    "sys.path.append(\"../../\")\n",
    "\n",
    "%load_ext autoreload\n",
    "%autoreload 2"
   ]
  },
  {
   "cell_type": "code",
   "execution_count": 2,
   "metadata": {},
   "outputs": [
    {
     "name": "stdout",
     "output_type": "stream",
     "text": [
      "TrainX: (2520, 500, 1)\n",
      "ValX: (1081, 500, 1)\n",
      "TestX: (3601, 500, 1)\n",
      "Classes: 2\n"
     ]
    }
   ],
   "source": [
    "from modules import ucr_loader, utils\n",
    "# get all datasets\n",
    "root = '../../../data/'\n",
    "dataset_dict = ucr_loader.get_datasets(root, prefix='**/')\n",
    "# retrieve data\n",
    "dataset_name = 'FordA'\n",
    "trainX, trainY, testX, testY = ucr_loader.load_data(dataset_dict[dataset_name])\n",
    "# preprocess data\n",
    "trainX, trainY, testX, testY = ucr_loader.preprocess_data(trainX, trainY, testX, testY, normalize=False, standardize=True)\n",
    "# additional preprocessing\n",
    "trainX, trainY, valX, valY = utils.perform_datasplit(trainX, trainY, test_split=0.3)\n",
    "n_classes = len(np.unique(trainY))\n",
    "# Shapes\n",
    "print('TrainX:', trainX.shape)\n",
    "print('ValX:', valX.shape)\n",
    "print('TestX:', testX.shape)\n",
    "print('Classes:', n_classes)\n",
    "\n",
    "# uncomment to use the save folders\n",
    "#model_dir, result_dir = utils.maybe_create_dirs(dataset_name, root='../../../', dirs=['models', 'results'], return_paths=True, verbose=1)"
   ]
  },
  {
   "cell_type": "markdown",
   "metadata": {},
   "source": [
    "Using federated training to learn and achieve privacy"
   ]
  },
  {
   "cell_type": "code",
   "execution_count": 3,
   "metadata": {},
   "outputs": [],
   "source": [
    "from modules.DM import trainer_federated\n",
    "\n",
    "n_clients, use_stratified = 4, True\n",
    "\n",
    "federated_train_pre, stratified_state = trainer_federated.make_federated_data(trainX, trainY, n_clients=n_clients, stratify=use_stratified, return_state=True)\n",
    "federated_val_pre = trainer_federated.make_federated_data(valX, valY, n_clients=n_clients, stratify=use_stratified)"
   ]
  },
  {
   "cell_type": "code",
   "execution_count": 4,
   "metadata": {},
   "outputs": [],
   "source": [
    "client_epochs, batch_size = 1, 32\n",
    "federated_train = trainer_federated.preporcess_federated_data(federated_train_pre, num_epochs=client_epochs, batch_size=batch_size)\n",
    "federated_val = trainer_federated.preporcess_federated_data(federated_val_pre, num_epochs=1, batch_size=batch_size)"
   ]
  },
  {
   "cell_type": "code",
   "execution_count": 5,
   "metadata": {
    "tags": []
   },
   "outputs": [],
   "source": [
    "adaptive, stepwise = True, False\n",
    "server_learning_rate, client_learning_rate = 0.2, 0.2\n",
    "\n",
    "federated_dict = {}\n",
    "federated_dict['input_shape'] = trainX.shape[1:]\n",
    "federated_dict['n_classes'] = n_classes\n",
    "federated_dict['input_spec'] = federated_train[0].element_spec\n",
    "\n",
    "federated_train_process, federated_eval_process = trainer_federated.create_federated_processes(federated_dict, server_learning_rate, client_learning_rate=client_learning_rate, adaptive=adaptive, stepwise=stepwise)\n",
    "state = federated_train_process.initialize()"
   ]
  },
  {
   "cell_type": "code",
   "execution_count": null,
   "metadata": {},
   "outputs": [],
   "source": [
    "parallel_clients = None\n",
    "\n",
    "# uncomment to save the model\n",
    "model_path = None#os.path.join(model_dir, 'AlexNet_1d_federated_batch-' + str(batch_size) + '_stratified-' + str(stratified_state)  + '_nclients-' + str(n_clients) + '_nparallel-' + str(parallel_clients) + '_adaptive-' + str(adaptive) + '.h5'\n",
    "model_extern = trainer_federated.traintf(state, federated_dict, federated_train_process, federated_train_pre, \n",
    "                                          federated_eval_process=federated_eval_process, federated_val=federated_val, \n",
    "                                          n_clients=parallel_clients, epochs=100, batch_size=batch_size, lr_decay=adaptive, model_path=model_path, verbose=1)"
   ]
  },
  {
   "cell_type": "code",
   "execution_count": null,
   "metadata": {},
   "outputs": [],
   "source": [
    "# uncomment to save the model\n",
    "report_path = None#os.path.join(result_dir, 'AlexNet_federated_batch-' + str(batch_size) + '_stratified-' + str(stratified_state) + '_nclients-' + str(n_clients) + '_nparallel-' + str(parallel_clients) + '_adaptive-' + str(adaptive) + '.txt')\n",
    "preds = np.argmax(model_extern.predict(testX, batch_size=batch_size, verbose=1), axis=1)\n",
    "utils.compute_classification_report(testY, preds, save=report_path, verbose=1)"
   ]
  },
  {
   "cell_type": "code",
   "execution_count": null,
   "metadata": {},
   "outputs": [],
   "source": []
  }
 ],
 "metadata": {
  "kernelspec": {
   "display_name": "Python 3.6.12 64-bit ('tf2_4')",
   "metadata": {
    "interpreter": {
     "hash": "788660a0612e77e24ebe3e72288f65d4e4e7242c0073a8e4dad0a15c2c8da2dc"
    }
   },
   "name": "python3"
  },
  "language_info": {
   "codemirror_mode": {
    "name": "ipython",
    "version": 3
   },
   "file_extension": ".py",
   "mimetype": "text/x-python",
   "name": "python",
   "nbconvert_exporter": "python",
   "pygments_lexer": "ipython3",
   "version": "3.6.12-final"
  },
  "orig_nbformat": 2
 },
 "nbformat": 4,
 "nbformat_minor": 2
}
