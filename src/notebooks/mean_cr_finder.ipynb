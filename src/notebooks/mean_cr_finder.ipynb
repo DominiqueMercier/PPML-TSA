{
 "metadata": {
  "language_info": {
   "codemirror_mode": {
    "name": "ipython",
    "version": 3
   },
   "file_extension": ".py",
   "mimetype": "text/x-python",
   "name": "python",
   "nbconvert_exporter": "python",
   "pygments_lexer": "ipython3",
   "version": "3.6.12"
  },
  "orig_nbformat": 2,
  "kernelspec": {
   "name": "python3",
   "display_name": "Python 3.6.12 64-bit ('tf2_4': virtualenvwrapper)"
  },
  "interpreter": {
   "hash": "788660a0612e77e24ebe3e72288f65d4e4e7242c0073a8e4dad0a15c2c8da2dc"
  }
 },
 "nbformat": 4,
 "nbformat_minor": 2,
 "cells": [
  {
   "cell_type": "code",
   "execution_count": 2,
   "metadata": {
    "tags": []
   },
   "outputs": [],
   "source": [
    "import os\n",
    "import pickle\n",
    "import numpy as np\n",
    "from glob import glob"
   ]
  },
  {
   "cell_type": "code",
   "execution_count": 23,
   "metadata": {},
   "outputs": [
    {
     "output_type": "stream",
     "name": "stdout",
     "text": [
      "Found: 12 reports\n"
     ]
    }
   ],
   "source": [
    "# get all results\n",
    "root = '../../results/'\n",
    "exp_path = 'federated_architecture'\n",
    "dataset = '*'\n",
    "architecture = '*'\n",
    "\n",
    "mean_crs = sorted(glob(os.path.join(root, exp_path, dataset, architecture + '*_report.pickle')))\n",
    "print('Found: %s reports' % len(mean_crs))"
   ]
  },
  {
   "cell_type": "code",
   "execution_count": 24,
   "metadata": {},
   "outputs": [],
   "source": [
    "def extract_values(mean_crs, keys, print_path=False):\n",
    "    rd = {}\n",
    "    for mcr in mean_crs:\n",
    "        with open(mcr, 'rb') as f:\n",
    "            d = pickle.load(f)\n",
    "        if print_path:\n",
    "            print('Path: %s' % mcr)\n",
    "        setup = mcr.split('/')[-3:]\n",
    "        exp, dataset, model = setup\n",
    "        model = model.split('_run')[0]\n",
    "        #dict setup\n",
    "        if not exp in rd.keys():\n",
    "            rd[exp] = {}\n",
    "        if not dataset in rd[exp].keys():\n",
    "            rd[exp][dataset] = {}\n",
    "        if not model in rd[exp][dataset].keys():\n",
    "            rd[exp][dataset][model] = []\n",
    "        # values insert\n",
    "        tmp = {}\n",
    "        for k in keys:\n",
    "            if k in d.keys():\n",
    "                tmp[k] = d[k]\n",
    "            elif '/' in k:\n",
    "                k1, k2 = k.split('/')\n",
    "                tmp[k] = d[k1][k2]\n",
    "        rd[exp][dataset][model].append(tmp)\n",
    "    return rd\n",
    "    \n",
    "def print_values(rd, best_key=None):\n",
    "    for e in sorted(rd.keys()):\n",
    "        for d in sorted(rd[e].keys()):\n",
    "            for m in sorted(rd[e][d].keys()):\n",
    "                print('Exp: %s | Dataset: %s | Model: %s' %(e, d, m))\n",
    "                cd = rd[e][d][m]\n",
    "                if not best_key is None:\n",
    "                    best_i, best_val = 0, 0\n",
    "                    for i in range(len(cd)):\n",
    "                        curr_val = float(str(cd[i][best_key]).split(' ')[0])\n",
    "                        if curr_val > best_val:\n",
    "                            best_i, best_val = i, curr_val\n",
    "                indices = np.arange(len(cd)) if best_key is None else [best_i]\n",
    "                for i in indices:\n",
    "                    for k in cd[i].keys():\n",
    "                        print('Idx: %s Key: %s | Value: %s' % (i, k, cd[i][k]))\n",
    "                print('=' * 80)"
   ]
  },
  {
   "cell_type": "code",
   "execution_count": 25,
   "metadata": {
    "tags": []
   },
   "outputs": [
    {
     "output_type": "stream",
     "name": "stdout",
     "text": [
      "Exp: federated_architecture | Dataset: ECG5000 | Model: FCN_federated_batch-8_stratified-False_nclients-4_nparallel-4_adaptive-False\nIdx: 0 Key: weighted avg/f1-score | Value: 0.4303589791559484\n================================================================================\nExp: federated_architecture | Dataset: ECG5000 | Model: FDN_federated_batch-8_stratified-False_nclients-4_nparallel-4_adaptive-False\nIdx: 0 Key: weighted avg/f1-score | Value: 0.898940670588492\n================================================================================\nExp: federated_architecture | Dataset: ECG5000 | Model: LSTM_federated_batch-8_stratified-False_nclients-4_nparallel-4_adaptive-False\nIdx: 0 Key: weighted avg/f1-score | Value: 0.8597877095576976\n================================================================================\nExp: federated_architecture | Dataset: ECG5000 | Model: LeNet_federated_batch-8_stratified-False_nclients-4_nparallel-4_adaptive-False\nIdx: 0 Key: weighted avg/f1-score | Value: 0.4303589791559484\n================================================================================\nExp: federated_architecture | Dataset: ElectricDevices | Model: FCN_federated_batch-8_stratified-True_nclients-4_nparallel-4_adaptive-False\nIdx: 0 Key: weighted avg/f1-score | Value: 0.0945741368307997\n================================================================================\nExp: federated_architecture | Dataset: ElectricDevices | Model: FDN_federated_batch-8_stratified-True_nclients-4_nparallel-4_adaptive-False\nIdx: 0 Key: weighted avg/f1-score | Value: 0.5288942556571151\n================================================================================\nExp: federated_architecture | Dataset: ElectricDevices | Model: LSTM_federated_batch-8_stratified-True_nclients-4_nparallel-4_adaptive-False\nIdx: 0 Key: weighted avg/f1-score | Value: 0.5729553520587032\n================================================================================\nExp: federated_architecture | Dataset: ElectricDevices | Model: LeNet_federated_batch-8_stratified-True_nclients-4_nparallel-4_adaptive-False\nIdx: 0 Key: weighted avg/f1-score | Value: 0.31100163030151906\n================================================================================\nExp: federated_architecture | Dataset: FordA | Model: FCN_federated_batch-8_stratified-True_nclients-4_nparallel-4_adaptive-False\nIdx: 0 Key: weighted avg/f1-score | Value: 0.3191523348968074\n================================================================================\nExp: federated_architecture | Dataset: FordA | Model: FDN_federated_batch-8_stratified-True_nclients-4_nparallel-4_adaptive-False\nIdx: 0 Key: weighted avg/f1-score | Value: 0.8029850200377242\n================================================================================\nExp: federated_architecture | Dataset: FordA | Model: LSTM_federated_batch-8_stratified-True_nclients-4_nparallel-4_adaptive-False\nIdx: 0 Key: weighted avg/f1-score | Value: 0.42343959568878775\n================================================================================\nExp: federated_architecture | Dataset: FordA | Model: LeNet_federated_batch-8_stratified-True_nclients-4_nparallel-4_adaptive-False\nIdx: 0 Key: weighted avg/f1-score | Value: 0.3561315970954525\n================================================================================\n"
     ]
    }
   ],
   "source": [
    "keys = ['weighted avg/f1-score']\n",
    "rd = extract_values(mean_crs, keys)\n",
    "print_values(rd, best_key=keys[0])"
   ]
  },
  {
   "cell_type": "code",
   "execution_count": null,
   "metadata": {},
   "outputs": [],
   "source": []
  }
 ]
}