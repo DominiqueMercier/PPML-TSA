{
 "metadata": {
  "language_info": {
   "codemirror_mode": {
    "name": "ipython",
    "version": 3
   },
   "file_extension": ".py",
   "mimetype": "text/x-python",
   "name": "python",
   "nbconvert_exporter": "python",
   "pygments_lexer": "ipython3",
   "version": "3.6.12-final"
  },
  "orig_nbformat": 2,
  "kernelspec": {
   "name": "python3612jvsc74a57bd0a85c219af9e46e1dfdb51d369131ea2f0dc0d24da0875167d0fb1e147dccd350",
   "display_name": "Python 3.6.12 64-bit ('tf1_15')"
  }
 },
 "nbformat": 4,
 "nbformat_minor": 2,
 "cells": [
  {
   "cell_type": "code",
   "execution_count": 1,
   "metadata": {},
   "outputs": [],
   "source": [
    "import numpy as np\n",
    "import sys\n",
    "sys.path.append(\"../\")\n",
    "\n",
    "from modules import ucr_loader, utils\n",
    "%load_ext autoreload\n",
    "%autoreload 2"
   ]
  },
  {
   "cell_type": "code",
   "execution_count": 2,
   "metadata": {},
   "outputs": [],
   "source": [
    "# get all datasets\n",
    "root = '../../data/'\n",
    "dataset_dict = ucr_loader.get_datasets(root, prefix='**/')"
   ]
  },
  {
   "cell_type": "code",
   "execution_count": 12,
   "metadata": {},
   "outputs": [],
   "source": [
    "# retrieve data\n",
    "trainX, trainY, testX, testY = ucr_loader.load_data(dataset_dict['MelbournePedestrian'])"
   ]
  },
  {
   "cell_type": "code",
   "execution_count": null,
   "metadata": {},
   "outputs": [],
   "source": [
    "# preprocess data\n",
    "trainX, trainY, testX, testY = ucr_loader.preprocess_data(trainX, trainY, testX, testY, normalize=False, standardize=True)"
   ]
  },
  {
   "cell_type": "code",
   "execution_count": 15,
   "metadata": {},
   "outputs": [],
   "source": [
    "# additional preprocessing\n",
    "trainX, trainY, valX, valY = utils.perform_datasplit(trainX, trainY, test_split=0.3)"
   ]
  },
  {
   "cell_type": "code",
   "execution_count": 16,
   "metadata": {},
   "outputs": [
    {
     "output_type": "stream",
     "name": "stdout",
     "text": [
      "TrainX: (738, 2371, 1)\nValX: (317, 2371, 1)\nTestX: (1056, 2371, 1)\nClasses: 3\n"
     ]
    }
   ],
   "source": [
    "n_classes = len(np.unique(trainY))\n",
    "# Shapes\n",
    "print('TrainX:', trainX.shape)\n",
    "print('ValX:', valX.shape)\n",
    "print('TestX:', testX.shape)\n",
    "print('Classes:', n_classes)"
   ]
  },
  {
   "cell_type": "code",
   "execution_count": null,
   "metadata": {},
   "outputs": [],
   "source": []
  }
 ]
}